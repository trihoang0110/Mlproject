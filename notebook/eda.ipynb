{
 "cells": [
  {
   "cell_type": "code",
   "execution_count": 569,
   "metadata": {},
   "outputs": [],
   "source": [
    "import pandas as pd \n",
    "import numpy as np\n",
    "import seaborn as sns\n",
    "import matplotlib.pyplot as plt"
   ]
  },
  {
   "attachments": {},
   "cell_type": "markdown",
   "metadata": {},
   "source": [
    "## 1 Quick look at the data"
   ]
  },
  {
   "cell_type": "code",
   "execution_count": 570,
   "metadata": {},
   "outputs": [
    {
     "data": {
      "text/html": [
       "<div>\n",
       "<style scoped>\n",
       "    .dataframe tbody tr th:only-of-type {\n",
       "        vertical-align: middle;\n",
       "    }\n",
       "\n",
       "    .dataframe tbody tr th {\n",
       "        vertical-align: top;\n",
       "    }\n",
       "\n",
       "    .dataframe thead th {\n",
       "        text-align: right;\n",
       "    }\n",
       "</style>\n",
       "<table border=\"1\" class=\"dataframe\">\n",
       "  <thead>\n",
       "    <tr style=\"text-align: right;\">\n",
       "      <th></th>\n",
       "      <th>Company</th>\n",
       "      <th>Product</th>\n",
       "      <th>TypeName</th>\n",
       "      <th>Inches</th>\n",
       "      <th>ScreenResolution</th>\n",
       "      <th>Cpu</th>\n",
       "      <th>Ram</th>\n",
       "      <th>Memory</th>\n",
       "      <th>Gpu</th>\n",
       "      <th>OpSys</th>\n",
       "      <th>Weight</th>\n",
       "      <th>Price_euros</th>\n",
       "    </tr>\n",
       "  </thead>\n",
       "  <tbody>\n",
       "    <tr>\n",
       "      <th>0</th>\n",
       "      <td>Apple</td>\n",
       "      <td>MacBook Pro</td>\n",
       "      <td>Ultrabook</td>\n",
       "      <td>13.3</td>\n",
       "      <td>IPS Panel Retina Display 2560x1600</td>\n",
       "      <td>Intel Core i5 2.3GHz</td>\n",
       "      <td>8GB</td>\n",
       "      <td>128GB SSD</td>\n",
       "      <td>Intel Iris Plus Graphics 640</td>\n",
       "      <td>macOS</td>\n",
       "      <td>1.37kg</td>\n",
       "      <td>1339.69</td>\n",
       "    </tr>\n",
       "    <tr>\n",
       "      <th>1</th>\n",
       "      <td>Apple</td>\n",
       "      <td>Macbook Air</td>\n",
       "      <td>Ultrabook</td>\n",
       "      <td>13.3</td>\n",
       "      <td>1440x900</td>\n",
       "      <td>Intel Core i5 1.8GHz</td>\n",
       "      <td>8GB</td>\n",
       "      <td>128GB Flash Storage</td>\n",
       "      <td>Intel HD Graphics 6000</td>\n",
       "      <td>macOS</td>\n",
       "      <td>1.34kg</td>\n",
       "      <td>898.94</td>\n",
       "    </tr>\n",
       "    <tr>\n",
       "      <th>2</th>\n",
       "      <td>HP</td>\n",
       "      <td>250 G6</td>\n",
       "      <td>Notebook</td>\n",
       "      <td>15.6</td>\n",
       "      <td>Full HD 1920x1080</td>\n",
       "      <td>Intel Core i5 7200U 2.5GHz</td>\n",
       "      <td>8GB</td>\n",
       "      <td>256GB SSD</td>\n",
       "      <td>Intel HD Graphics 620</td>\n",
       "      <td>No OS</td>\n",
       "      <td>1.86kg</td>\n",
       "      <td>575.00</td>\n",
       "    </tr>\n",
       "    <tr>\n",
       "      <th>3</th>\n",
       "      <td>Apple</td>\n",
       "      <td>MacBook Pro</td>\n",
       "      <td>Ultrabook</td>\n",
       "      <td>15.4</td>\n",
       "      <td>IPS Panel Retina Display 2880x1800</td>\n",
       "      <td>Intel Core i7 2.7GHz</td>\n",
       "      <td>16GB</td>\n",
       "      <td>512GB SSD</td>\n",
       "      <td>AMD Radeon Pro 455</td>\n",
       "      <td>macOS</td>\n",
       "      <td>1.83kg</td>\n",
       "      <td>2537.45</td>\n",
       "    </tr>\n",
       "    <tr>\n",
       "      <th>4</th>\n",
       "      <td>Apple</td>\n",
       "      <td>MacBook Pro</td>\n",
       "      <td>Ultrabook</td>\n",
       "      <td>13.3</td>\n",
       "      <td>IPS Panel Retina Display 2560x1600</td>\n",
       "      <td>Intel Core i5 3.1GHz</td>\n",
       "      <td>8GB</td>\n",
       "      <td>256GB SSD</td>\n",
       "      <td>Intel Iris Plus Graphics 650</td>\n",
       "      <td>macOS</td>\n",
       "      <td>1.37kg</td>\n",
       "      <td>1803.60</td>\n",
       "    </tr>\n",
       "  </tbody>\n",
       "</table>\n",
       "</div>"
      ],
      "text/plain": [
       "  Company      Product   TypeName  Inches                    ScreenResolution  \\\n",
       "0   Apple  MacBook Pro  Ultrabook    13.3  IPS Panel Retina Display 2560x1600   \n",
       "1   Apple  Macbook Air  Ultrabook    13.3                            1440x900   \n",
       "2      HP       250 G6   Notebook    15.6                   Full HD 1920x1080   \n",
       "3   Apple  MacBook Pro  Ultrabook    15.4  IPS Panel Retina Display 2880x1800   \n",
       "4   Apple  MacBook Pro  Ultrabook    13.3  IPS Panel Retina Display 2560x1600   \n",
       "\n",
       "                          Cpu   Ram               Memory  \\\n",
       "0        Intel Core i5 2.3GHz   8GB            128GB SSD   \n",
       "1        Intel Core i5 1.8GHz   8GB  128GB Flash Storage   \n",
       "2  Intel Core i5 7200U 2.5GHz   8GB            256GB SSD   \n",
       "3        Intel Core i7 2.7GHz  16GB            512GB SSD   \n",
       "4        Intel Core i5 3.1GHz   8GB            256GB SSD   \n",
       "\n",
       "                            Gpu  OpSys  Weight  Price_euros  \n",
       "0  Intel Iris Plus Graphics 640  macOS  1.37kg      1339.69  \n",
       "1        Intel HD Graphics 6000  macOS  1.34kg       898.94  \n",
       "2         Intel HD Graphics 620  No OS  1.86kg       575.00  \n",
       "3            AMD Radeon Pro 455  macOS  1.83kg      2537.45  \n",
       "4  Intel Iris Plus Graphics 650  macOS  1.37kg      1803.60  "
      ]
     },
     "execution_count": 570,
     "metadata": {},
     "output_type": "execute_result"
    }
   ],
   "source": [
    "# Read data\n",
    "df = pd.read_csv('./data/laptop_price.csv', encoding='latin-1', usecols=lambda column: column != 'laptop_ID')\n",
    "df.head(5)"
   ]
  },
  {
   "attachments": {},
   "cell_type": "markdown",
   "metadata": {},
   "source": [
    "### Shape of the data"
   ]
  },
  {
   "cell_type": "code",
   "execution_count": 571,
   "metadata": {},
   "outputs": [
    {
     "data": {
      "text/plain": [
       "(1303, 12)"
      ]
     },
     "execution_count": 571,
     "metadata": {},
     "output_type": "execute_result"
    }
   ],
   "source": [
    "df.shape"
   ]
  },
  {
   "attachments": {},
   "cell_type": "markdown",
   "metadata": {},
   "source": [
    "### Dataset Information"
   ]
  },
  {
   "attachments": {},
   "cell_type": "markdown",
   "metadata": {},
   "source": [
    "#### 1 Company- String -Laptop Manufacturer\n",
    "#### 2 Product -String -Brand and Model\n",
    "#### 3 TypeName -String -Type (Notebook, Ultrabook, Gaming, etc.)\n",
    "#### 4 Inches -Numeric- Screen Size\n",
    "#### 5 ScreenResolution -String- Screen Resolution\n",
    "#### 6 Cpu- String -Central Processing Unit (CPU)\n",
    "#### 7 Ram -String- Laptop RAM\n",
    "#### 8 Memory -String- Hard Disk / SSD Memory\n",
    "#### 9 GPU -String- Graphics Processing Units (GPU)\n",
    "#### 10 OpSys -String- Operating System\n",
    "#### 11 Weight -String- Laptop Weight\n",
    "#### 12 Price_euros -Numeric- Price (Euro)"
   ]
  },
  {
   "attachments": {},
   "cell_type": "markdown",
   "metadata": {},
   "source": [
    "## 2. Perform data check"
   ]
  },
  {
   "attachments": {},
   "cell_type": "markdown",
   "metadata": {},
   "source": [
    "### 2.1 Check missing values"
   ]
  },
  {
   "cell_type": "code",
   "execution_count": 572,
   "metadata": {},
   "outputs": [
    {
     "data": {
      "text/plain": [
       "Company             0\n",
       "Product             0\n",
       "TypeName            0\n",
       "Inches              0\n",
       "ScreenResolution    0\n",
       "Cpu                 0\n",
       "Ram                 0\n",
       "Memory              0\n",
       "Gpu                 0\n",
       "OpSys               0\n",
       "Weight              0\n",
       "Price_euros         0\n",
       "dtype: int64"
      ]
     },
     "execution_count": 572,
     "metadata": {},
     "output_type": "execute_result"
    }
   ],
   "source": [
    "df.isna().sum()\n",
    "# There is no missing values"
   ]
  },
  {
   "attachments": {},
   "cell_type": "markdown",
   "metadata": {},
   "source": [
    "### 2.2 Check duplicates values and datatypes"
   ]
  },
  {
   "cell_type": "code",
   "execution_count": 573,
   "metadata": {},
   "outputs": [
    {
     "name": "stdout",
     "output_type": "stream",
     "text": [
      "Number of duplicates: 28\n"
     ]
    }
   ],
   "source": [
    "# check for duplicates\n",
    "duplicates = df[df.duplicated()]\n",
    "\n",
    "# print the number of duplicates\n",
    "print('Number of duplicates:', len(duplicates))"
   ]
  },
  {
   "cell_type": "code",
   "execution_count": 574,
   "metadata": {},
   "outputs": [
    {
     "name": "stdout",
     "output_type": "stream",
     "text": [
      "Data types of each column:\n",
      "Company              object\n",
      "Product              object\n",
      "TypeName             object\n",
      "Inches              float64\n",
      "ScreenResolution     object\n",
      "Cpu                  object\n",
      "Ram                  object\n",
      "Memory               object\n",
      "Gpu                  object\n",
      "OpSys                object\n",
      "Weight               object\n",
      "Price_euros         float64\n",
      "dtype: object\n"
     ]
    }
   ],
   "source": [
    "# check data types of each column\n",
    "print('Data types of each column:')\n",
    "print(df.dtypes)"
   ]
  },
  {
   "cell_type": "code",
   "execution_count": 575,
   "metadata": {},
   "outputs": [
    {
     "name": "stdout",
     "output_type": "stream",
     "text": [
      "<class 'pandas.core.frame.DataFrame'>\n",
      "RangeIndex: 1303 entries, 0 to 1302\n",
      "Data columns (total 12 columns):\n",
      " #   Column            Non-Null Count  Dtype  \n",
      "---  ------            --------------  -----  \n",
      " 0   Company           1303 non-null   object \n",
      " 1   Product           1303 non-null   object \n",
      " 2   TypeName          1303 non-null   object \n",
      " 3   Inches            1303 non-null   float64\n",
      " 4   ScreenResolution  1303 non-null   object \n",
      " 5   Cpu               1303 non-null   object \n",
      " 6   Ram               1303 non-null   object \n",
      " 7   Memory            1303 non-null   object \n",
      " 8   Gpu               1303 non-null   object \n",
      " 9   OpSys             1303 non-null   object \n",
      " 10  Weight            1303 non-null   object \n",
      " 11  Price_euros       1303 non-null   float64\n",
      "dtypes: float64(2), object(10)\n",
      "memory usage: 122.3+ KB\n"
     ]
    }
   ],
   "source": [
    "df.info()"
   ]
  },
  {
   "attachments": {},
   "cell_type": "markdown",
   "metadata": {},
   "source": [
    "### 2.3 Check unique values and stats"
   ]
  },
  {
   "cell_type": "code",
   "execution_count": 576,
   "metadata": {},
   "outputs": [
    {
     "name": "stdout",
     "output_type": "stream",
     "text": [
      "Column Company has 19 unique values\n",
      "Column Product has 618 unique values\n",
      "Column TypeName has 6 unique values\n",
      "Column ScreenResolution has 40 unique values\n",
      "Column Cpu has 118 unique values\n",
      "Column Ram has 9 unique values\n",
      "Column Memory has 39 unique values\n",
      "Column Gpu has 110 unique values\n",
      "Column OpSys has 9 unique values\n",
      "Column Weight has 179 unique values\n"
     ]
    }
   ],
   "source": [
    "# check number of unique values of categorical column\n",
    "for column in df.columns:\n",
    "    if df[column].dtype == 'O':\n",
    "        unique_values = df[column].nunique()\n",
    "        print('Column', column, 'has', unique_values, 'unique values')"
   ]
  },
  {
   "cell_type": "code",
   "execution_count": 577,
   "metadata": {},
   "outputs": [
    {
     "name": "stdout",
     "output_type": "stream",
     "text": [
      "We have 2 numerical features : ['Inches', 'Price_euros']\n",
      "\n",
      "We have 10 categorical features : ['Company', 'Product', 'TypeName', 'ScreenResolution', 'Cpu', 'Ram', 'Memory', 'Gpu', 'OpSys', 'Weight']\n"
     ]
    }
   ],
   "source": [
    "# define numerical & categorical columns\n",
    "numeric_features = [feature for feature in df.columns if df[feature].dtype != 'O']\n",
    "categorical_features = [feature for feature in df.columns if df[feature].dtype == 'O']\n",
    "\n",
    "# print columns\n",
    "print('We have {} numerical features : {}'.format(len(numeric_features), numeric_features))\n",
    "print('\\nWe have {} categorical features : {}'.format(len(categorical_features), categorical_features))"
   ]
  },
  {
   "cell_type": "code",
   "execution_count": 578,
   "metadata": {},
   "outputs": [
    {
     "data": {
      "text/html": [
       "<div>\n",
       "<style scoped>\n",
       "    .dataframe tbody tr th:only-of-type {\n",
       "        vertical-align: middle;\n",
       "    }\n",
       "\n",
       "    .dataframe tbody tr th {\n",
       "        vertical-align: top;\n",
       "    }\n",
       "\n",
       "    .dataframe thead th {\n",
       "        text-align: right;\n",
       "    }\n",
       "</style>\n",
       "<table border=\"1\" class=\"dataframe\">\n",
       "  <thead>\n",
       "    <tr style=\"text-align: right;\">\n",
       "      <th></th>\n",
       "      <th>Inches</th>\n",
       "      <th>Price_euros</th>\n",
       "    </tr>\n",
       "  </thead>\n",
       "  <tbody>\n",
       "    <tr>\n",
       "      <th>count</th>\n",
       "      <td>1303.000000</td>\n",
       "      <td>1303.000000</td>\n",
       "    </tr>\n",
       "    <tr>\n",
       "      <th>mean</th>\n",
       "      <td>15.017191</td>\n",
       "      <td>1123.686992</td>\n",
       "    </tr>\n",
       "    <tr>\n",
       "      <th>std</th>\n",
       "      <td>1.426304</td>\n",
       "      <td>699.009043</td>\n",
       "    </tr>\n",
       "    <tr>\n",
       "      <th>min</th>\n",
       "      <td>10.100000</td>\n",
       "      <td>174.000000</td>\n",
       "    </tr>\n",
       "    <tr>\n",
       "      <th>25%</th>\n",
       "      <td>14.000000</td>\n",
       "      <td>599.000000</td>\n",
       "    </tr>\n",
       "    <tr>\n",
       "      <th>50%</th>\n",
       "      <td>15.600000</td>\n",
       "      <td>977.000000</td>\n",
       "    </tr>\n",
       "    <tr>\n",
       "      <th>75%</th>\n",
       "      <td>15.600000</td>\n",
       "      <td>1487.880000</td>\n",
       "    </tr>\n",
       "    <tr>\n",
       "      <th>max</th>\n",
       "      <td>18.400000</td>\n",
       "      <td>6099.000000</td>\n",
       "    </tr>\n",
       "  </tbody>\n",
       "</table>\n",
       "</div>"
      ],
      "text/plain": [
       "            Inches  Price_euros\n",
       "count  1303.000000  1303.000000\n",
       "mean     15.017191  1123.686992\n",
       "std       1.426304   699.009043\n",
       "min      10.100000   174.000000\n",
       "25%      14.000000   599.000000\n",
       "50%      15.600000   977.000000\n",
       "75%      15.600000  1487.880000\n",
       "max      18.400000  6099.000000"
      ]
     },
     "execution_count": 578,
     "metadata": {},
     "output_type": "execute_result"
    }
   ],
   "source": [
    "df.describe()"
   ]
  },
  {
   "attachments": {},
   "cell_type": "markdown",
   "metadata": {},
   "source": [
    "##### Insight\n",
    "###### The price of laptop has a very high standard deviation -> the price varies a lot"
   ]
  },
  {
   "attachments": {},
   "cell_type": "markdown",
   "metadata": {},
   "source": [
    "## Feature engineering and visualization"
   ]
  },
  {
   "attachments": {},
   "cell_type": "markdown",
   "metadata": {},
   "source": [
    "##### Explore Company feature"
   ]
  },
  {
   "cell_type": "code",
   "execution_count": 579,
   "metadata": {},
   "outputs": [
    {
     "name": "stderr",
     "output_type": "stream",
     "text": [
      "C:\\Users\\ultra\\AppData\\Local\\Temp\\ipykernel_9856\\3336768437.py:2: FutureWarning: ['Product', 'TypeName', 'ScreenResolution', 'Cpu', 'Ram', 'Memory', 'Gpu', 'OpSys', 'Weight'] did not aggregate successfully. If any error is raised this will raise in a future version of pandas. Drop these columns/ops to avoid this warning.\n",
      "  df.groupby('Company').agg(['min', 'max', 'median', 'mean', 'sum'])['Price_euros']\n"
     ]
    },
    {
     "data": {
      "text/html": [
       "<div>\n",
       "<style scoped>\n",
       "    .dataframe tbody tr th:only-of-type {\n",
       "        vertical-align: middle;\n",
       "    }\n",
       "\n",
       "    .dataframe tbody tr th {\n",
       "        vertical-align: top;\n",
       "    }\n",
       "\n",
       "    .dataframe thead th {\n",
       "        text-align: right;\n",
       "    }\n",
       "</style>\n",
       "<table border=\"1\" class=\"dataframe\">\n",
       "  <thead>\n",
       "    <tr style=\"text-align: right;\">\n",
       "      <th></th>\n",
       "      <th>min</th>\n",
       "      <th>max</th>\n",
       "      <th>median</th>\n",
       "      <th>mean</th>\n",
       "      <th>sum</th>\n",
       "    </tr>\n",
       "    <tr>\n",
       "      <th>Company</th>\n",
       "      <th></th>\n",
       "      <th></th>\n",
       "      <th></th>\n",
       "      <th></th>\n",
       "      <th></th>\n",
       "    </tr>\n",
       "  </thead>\n",
       "  <tbody>\n",
       "    <tr>\n",
       "      <th>Acer</th>\n",
       "      <td>174.00</td>\n",
       "      <td>2599.00</td>\n",
       "      <td>559.00</td>\n",
       "      <td>626.775825</td>\n",
       "      <td>64557.91</td>\n",
       "    </tr>\n",
       "    <tr>\n",
       "      <th>Apple</th>\n",
       "      <td>898.94</td>\n",
       "      <td>2858.00</td>\n",
       "      <td>1339.69</td>\n",
       "      <td>1564.198571</td>\n",
       "      <td>32848.17</td>\n",
       "    </tr>\n",
       "    <tr>\n",
       "      <th>Asus</th>\n",
       "      <td>191.90</td>\n",
       "      <td>3975.00</td>\n",
       "      <td>1012.50</td>\n",
       "      <td>1104.169367</td>\n",
       "      <td>174458.76</td>\n",
       "    </tr>\n",
       "    <tr>\n",
       "      <th>Chuwi</th>\n",
       "      <td>244.99</td>\n",
       "      <td>449.00</td>\n",
       "      <td>248.90</td>\n",
       "      <td>314.296667</td>\n",
       "      <td>942.89</td>\n",
       "    </tr>\n",
       "    <tr>\n",
       "      <th>Dell</th>\n",
       "      <td>274.90</td>\n",
       "      <td>3659.40</td>\n",
       "      <td>985.00</td>\n",
       "      <td>1186.068990</td>\n",
       "      <td>352262.49</td>\n",
       "    </tr>\n",
       "    <tr>\n",
       "      <th>Fujitsu</th>\n",
       "      <td>649.00</td>\n",
       "      <td>799.00</td>\n",
       "      <td>739.00</td>\n",
       "      <td>729.000000</td>\n",
       "      <td>2187.00</td>\n",
       "    </tr>\n",
       "    <tr>\n",
       "      <th>Google</th>\n",
       "      <td>1275.00</td>\n",
       "      <td>2199.00</td>\n",
       "      <td>1559.00</td>\n",
       "      <td>1677.666667</td>\n",
       "      <td>5033.00</td>\n",
       "    </tr>\n",
       "    <tr>\n",
       "      <th>HP</th>\n",
       "      <td>209.00</td>\n",
       "      <td>4389.00</td>\n",
       "      <td>966.50</td>\n",
       "      <td>1067.774854</td>\n",
       "      <td>292570.31</td>\n",
       "    </tr>\n",
       "    <tr>\n",
       "      <th>Huawei</th>\n",
       "      <td>1349.00</td>\n",
       "      <td>1499.00</td>\n",
       "      <td>1424.00</td>\n",
       "      <td>1424.000000</td>\n",
       "      <td>2848.00</td>\n",
       "    </tr>\n",
       "    <tr>\n",
       "      <th>LG</th>\n",
       "      <td>1899.00</td>\n",
       "      <td>2299.00</td>\n",
       "      <td>2099.00</td>\n",
       "      <td>2099.000000</td>\n",
       "      <td>6297.00</td>\n",
       "    </tr>\n",
       "    <tr>\n",
       "      <th>Lenovo</th>\n",
       "      <td>229.00</td>\n",
       "      <td>4899.00</td>\n",
       "      <td>899.00</td>\n",
       "      <td>1086.384444</td>\n",
       "      <td>322656.18</td>\n",
       "    </tr>\n",
       "    <tr>\n",
       "      <th>MSI</th>\n",
       "      <td>839.00</td>\n",
       "      <td>2799.00</td>\n",
       "      <td>1599.00</td>\n",
       "      <td>1728.908148</td>\n",
       "      <td>93361.04</td>\n",
       "    </tr>\n",
       "    <tr>\n",
       "      <th>Mediacom</th>\n",
       "      <td>239.00</td>\n",
       "      <td>389.00</td>\n",
       "      <td>265.00</td>\n",
       "      <td>295.000000</td>\n",
       "      <td>2065.00</td>\n",
       "    </tr>\n",
       "    <tr>\n",
       "      <th>Microsoft</th>\n",
       "      <td>989.00</td>\n",
       "      <td>2589.00</td>\n",
       "      <td>1569.50</td>\n",
       "      <td>1612.308333</td>\n",
       "      <td>9673.85</td>\n",
       "    </tr>\n",
       "    <tr>\n",
       "      <th>Razer</th>\n",
       "      <td>1029.00</td>\n",
       "      <td>6099.00</td>\n",
       "      <td>2899.00</td>\n",
       "      <td>3346.142857</td>\n",
       "      <td>23423.00</td>\n",
       "    </tr>\n",
       "    <tr>\n",
       "      <th>Samsung</th>\n",
       "      <td>269.00</td>\n",
       "      <td>1849.00</td>\n",
       "      <td>1649.00</td>\n",
       "      <td>1413.444444</td>\n",
       "      <td>12721.00</td>\n",
       "    </tr>\n",
       "    <tr>\n",
       "      <th>Toshiba</th>\n",
       "      <td>447.00</td>\n",
       "      <td>2799.00</td>\n",
       "      <td>1211.50</td>\n",
       "      <td>1267.812500</td>\n",
       "      <td>60855.00</td>\n",
       "    </tr>\n",
       "    <tr>\n",
       "      <th>Vero</th>\n",
       "      <td>196.00</td>\n",
       "      <td>260.00</td>\n",
       "      <td>206.85</td>\n",
       "      <td>217.425000</td>\n",
       "      <td>869.70</td>\n",
       "    </tr>\n",
       "    <tr>\n",
       "      <th>Xiaomi</th>\n",
       "      <td>935.00</td>\n",
       "      <td>1399.95</td>\n",
       "      <td>1099.45</td>\n",
       "      <td>1133.462500</td>\n",
       "      <td>4533.85</td>\n",
       "    </tr>\n",
       "  </tbody>\n",
       "</table>\n",
       "</div>"
      ],
      "text/plain": [
       "               min      max   median         mean        sum\n",
       "Company                                                     \n",
       "Acer        174.00  2599.00   559.00   626.775825   64557.91\n",
       "Apple       898.94  2858.00  1339.69  1564.198571   32848.17\n",
       "Asus        191.90  3975.00  1012.50  1104.169367  174458.76\n",
       "Chuwi       244.99   449.00   248.90   314.296667     942.89\n",
       "Dell        274.90  3659.40   985.00  1186.068990  352262.49\n",
       "Fujitsu     649.00   799.00   739.00   729.000000    2187.00\n",
       "Google     1275.00  2199.00  1559.00  1677.666667    5033.00\n",
       "HP          209.00  4389.00   966.50  1067.774854  292570.31\n",
       "Huawei     1349.00  1499.00  1424.00  1424.000000    2848.00\n",
       "LG         1899.00  2299.00  2099.00  2099.000000    6297.00\n",
       "Lenovo      229.00  4899.00   899.00  1086.384444  322656.18\n",
       "MSI         839.00  2799.00  1599.00  1728.908148   93361.04\n",
       "Mediacom    239.00   389.00   265.00   295.000000    2065.00\n",
       "Microsoft   989.00  2589.00  1569.50  1612.308333    9673.85\n",
       "Razer      1029.00  6099.00  2899.00  3346.142857   23423.00\n",
       "Samsung     269.00  1849.00  1649.00  1413.444444   12721.00\n",
       "Toshiba     447.00  2799.00  1211.50  1267.812500   60855.00\n",
       "Vero        196.00   260.00   206.85   217.425000     869.70\n",
       "Xiaomi      935.00  1399.95  1099.45  1133.462500    4533.85"
      ]
     },
     "execution_count": 579,
     "metadata": {},
     "output_type": "execute_result"
    }
   ],
   "source": [
    "# Try to highlight import info in this griupby\n",
    "df.groupby('Company').agg(['min', 'max', 'median', 'mean', 'sum'])['Price_euros']\n",
    "\n"
   ]
  },
  {
   "cell_type": "code",
   "execution_count": 580,
   "metadata": {},
   "outputs": [
    {
     "data": {
      "image/png": "[encoded data removed]",
      "text/plain": [
       "<Figure size 1000x500 with 1 Axes>"
      ]
     },
     "metadata": {},
     "output_type": "display_data"
    }
   ],
   "source": [
    "plt.figure(figsize=(10, 5))\n",
    "# create bar chart\n",
    "plt.barh(df['Company'].value_counts().index, df['Company'].value_counts())\n",
    "# add labels and title\n",
    "plt.xlabel('Company')\n",
    "plt.ylabel('Num of records')\n",
    "plt.title('Laptop in the dataset comes from Which companys')\n",
    "\n",
    "# show the chart\n",
    "plt.show()"
   ]
  },
  {
   "cell_type": "code",
   "execution_count": 581,
   "metadata": {},
   "outputs": [],
   "source": [
    "## Group any company ưith under 10 counts into other group\n",
    "other = [company for count, company  in list(zip(df['Company'].value_counts(), df['Company'].value_counts().index)) if count < 10 ]"
   ]
  },
  {
   "cell_type": "code",
   "execution_count": 582,
   "metadata": {},
   "outputs": [],
   "source": [
    "df.loc[df['Company'].isin(other), 'Company'] = 'Other'"
   ]
  },
  {
   "attachments": {},
   "cell_type": "markdown",
   "metadata": {},
   "source": [
    "##### Insight\n",
    "##### Top 5 companies are Dell, Lenovo, HP, Asus, Acer"
   ]
  },
  {
   "attachments": {},
   "cell_type": "markdown",
   "metadata": {},
   "source": [
    "##### Explore TypeName and Inches features "
   ]
  },
  {
   "attachments": {},
   "cell_type": "markdown",
   "metadata": {},
   "source": [
    "###### Because Inches and resolution are two different ways of measuring the size of a display, Products are so diverse and can be presnted by Comapny name instead, i'll frop inches and product cols"
   ]
  },
  {
   "cell_type": "code",
   "execution_count": 583,
   "metadata": {},
   "outputs": [],
   "source": [
    "df.drop(columns=['Inches', 'Product'], inplace=True)"
   ]
  },
  {
   "cell_type": "code",
   "execution_count": 584,
   "metadata": {},
   "outputs": [
    {
     "data": {
      "text/plain": [
       "<Axes: xlabel='TypeName', ylabel='Price_euros'>"
      ]
     },
     "execution_count": 584,
     "metadata": {},
     "output_type": "execute_result"
    },
    {
     "data": {
      "image/png": "[encoded data removed]",
      "text/plain": [
       "<Figure size 1000x500 with 1 Axes>"
      ]
     },
     "metadata": {},
     "output_type": "display_data"
    }
   ],
   "source": [
    "plt.figure(figsize=(10, 5))\n",
    "sns.barplot(data=df, x=df['TypeName'], y=df['Price_euros'], estimator=np.median)"
   ]
  },
  {
   "attachments": {},
   "cell_type": "markdown",
   "metadata": {},
   "source": [
    "##### Insight\n",
    "###### TypeName can really help in prediction: workstationa and Gaming type of laptop have the highest median prices"
   ]
  },
  {
   "attachments": {},
   "cell_type": "markdown",
   "metadata": {},
   "source": [
    "##### Create a new features from ScreenResolution feature"
   ]
  },
  {
   "cell_type": "code",
   "execution_count": 585,
   "metadata": {},
   "outputs": [],
   "source": [
    "df[['Width', 'Heigth']] = df['ScreenResolution'].str.extract(r'(\\d+)x(\\d+)', expand=True)\n",
    "df['Width'] = df['Width'].astype(np.int32)\n",
    "df['Heigth'] = df['Heigth'].astype(np.int32)\n",
    "# df['Total number of pixels'] = df['Width'] + df['Heigth']"
   ]
  },
  {
   "cell_type": "code",
   "execution_count": 586,
   "metadata": {},
   "outputs": [
    {
     "name": "stdout",
     "output_type": "stream",
     "text": [
      "0\n",
      "0\n"
     ]
    }
   ],
   "source": [
    "print(df['Width'].isna().sum())\n",
    "print(df['Heigth'].isna().sum())\n",
    "# print(df['Total number of pixels'].isna().sum())"
   ]
  },
  {
   "cell_type": "code",
   "execution_count": 587,
   "metadata": {},
   "outputs": [],
   "source": [
    "def line_plot(feature, graph_name, axs, col):\n",
    "    plot_df = df.sort_values(by=feature, ascending=True)[[feature, 'Price_euros']]\n",
    "    # create line plot\n",
    "    sns.lineplot(x=plot_df[feature], y=plot_df['Price_euros'], ax=axs[col])\n",
    "\n",
    "    # add labels and title\n",
    "    axs[col].set_xlabel(feature)\n",
    "    axs[col].set_ylabel('Price_euros')\n",
    "    axs[col].set_title(graph_name)\n",
    "\n",
    "        "
   ]
  },
  {
   "cell_type": "code",
   "execution_count": 588,
   "metadata": {},
   "outputs": [],
   "source": [
    "# plot_df = df.sort_values(by='Width', ascending=True)[['Width', 'Price_euros']]\n",
    "# sns.lineplot(x=plot_df['Width'], y=plot_df['Price_euros'])"
   ]
  },
  {
   "cell_type": "code",
   "execution_count": 589,
   "metadata": {},
   "outputs": [
    {
     "data": {
      "image/png": "[encoded data removed]",
      "text/plain": [
       "<Figure size 1000x500 with 2 Axes>"
      ]
     },
     "metadata": {},
     "output_type": "display_data"
    }
   ],
   "source": [
    "fig, axs = plt.subplots(1, 2, figsize=(10, 5))\n",
    "# plt.subplot(121)\n",
    "line_plot('Width', 'Price and Width relationship', axs, 0)\n",
    "# plt.subplot(122)\n",
    "line_plot('Heigth', 'Price and Heigth relationship', axs, 1)\n",
    "# plt.subplot(211)\n",
    "# line_plot('Total number of pixels', 'Price and Width relationship')\n",
    "plt.show()\n"
   ]
  },
  {
   "attachments": {},
   "cell_type": "markdown",
   "metadata": {},
   "source": [
    "##### Insight\n",
    "##### There is a certain positive correlation between width, heitgh and price"
   ]
  },
  {
   "cell_type": "code",
   "execution_count": 590,
   "metadata": {},
   "outputs": [],
   "source": [
    "import re\n",
    "df['IsTouchscreen'] = df['ScreenResolution'].str.contains('Touchscreen', flags=re.IGNORECASE)\n",
    "df.loc[df['IsTouchscreen']==True, 'IsTouchscreen'] = 'Yes'\n",
    "df.loc[df['IsTouchscreen']==False, 'IsTouchscreen'] = 'No'"
   ]
  },
  {
   "cell_type": "code",
   "execution_count": 591,
   "metadata": {},
   "outputs": [
    {
     "data": {
      "text/plain": [
       "<Axes: xlabel='IsTouchscreen', ylabel='Price_euros'>"
      ]
     },
     "execution_count": 591,
     "metadata": {},
     "output_type": "execute_result"
    },
    {
     "data": {
      "image/png": "[encoded data removed]",
      "text/plain": [
       "<Figure size 640x480 with 1 Axes>"
      ]
     },
     "metadata": {},
     "output_type": "display_data"
    }
   ],
   "source": [
    "sns.barplot(data=df, x=df['IsTouchscreen'], y=df['Price_euros'], estimator=np.mean)"
   ]
  },
  {
   "cell_type": "code",
   "execution_count": 592,
   "metadata": {},
   "outputs": [],
   "source": [
    "df.drop(columns='ScreenResolution', inplace=True)"
   ]
  },
  {
   "attachments": {},
   "cell_type": "markdown",
   "metadata": {},
   "source": [
    "### Create new feature from Cpu"
   ]
  },
  {
   "cell_type": "code",
   "execution_count": 593,
   "metadata": {},
   "outputs": [],
   "source": [
    "df['CpuProducer'] = df['Cpu'].str.extract(r'^(\\w+)', expand=True)\n",
    "df['CpuSpeed (GHz)'] = df['Cpu'].str.extract(r'(\\d\\.\\d*|\\d)GHz', expand=True)"
   ]
  },
  {
   "cell_type": "code",
   "execution_count": 594,
   "metadata": {},
   "outputs": [
    {
     "data": {
      "image/png": "[encoded data removed]",
      "text/plain": [
       "<Figure size 640x480 with 1 Axes>"
      ]
     },
     "metadata": {},
     "output_type": "display_data"
    }
   ],
   "source": [
    "ordered_speed = df['CpuSpeed (GHz)'].sort_values().unique()\n",
    "sns.barplot(data=df, x='CpuSpeed (GHz)', y='Price_euros', estimator='median', order=ordered_speed)\n",
    "plt.show()"
   ]
  },
  {
   "cell_type": "code",
   "execution_count": 595,
   "metadata": {},
   "outputs": [
    {
     "data": {
      "image/png": "[encoded data removed]",
      "text/plain": [
       "<Figure size 640x480 with 1 Axes>"
      ]
     },
     "metadata": {},
     "output_type": "display_data"
    }
   ],
   "source": [
    "sns.barplot(data=df, x='CpuProducer', y='Price_euros', estimator='median')\n",
    "plt.show()"
   ]
  },
  {
   "cell_type": "code",
   "execution_count": 596,
   "metadata": {},
   "outputs": [],
   "source": [
    "df.drop(columns='Cpu', inplace=True)"
   ]
  },
  {
   "attachments": {},
   "cell_type": "markdown",
   "metadata": {},
   "source": [
    "### Feature engineering for Memory features"
   ]
  },
  {
   "cell_type": "code",
   "execution_count": 597,
   "metadata": {},
   "outputs": [],
   "source": [
    "# sns.barplot(data=df, x='Ram', y='Price_euros', estimator='median')\n",
    "# plt.show()"
   ]
  },
  {
   "cell_type": "code",
   "execution_count": 598,
   "metadata": {},
   "outputs": [],
   "source": [
    "df[['Memory1', 'Memory2']] = df['Memory'].str.split('+', expand=True)\n",
    "df['Memory1'] = df['Memory1'].str.strip()\n",
    "df['Memory2'] = df['Memory2'].str.strip()"
   ]
  },
  {
   "cell_type": "code",
   "execution_count": 599,
   "metadata": {},
   "outputs": [],
   "source": [
    "df.loc[df['Memory2'].isnull(), 'Memory2'] = '0GB NoType'\n"
   ]
  },
  {
   "cell_type": "code",
   "execution_count": 600,
   "metadata": {},
   "outputs": [],
   "source": [
    "df[['MemorySize1', 'MemoryType1']] = df['Memory1'].str.extract(r'(^\\d+\\.?\\d*\\w{2})\\s(.+)', expand=True)\n",
    "df['MemorySize1'] = df['MemorySize1'].str.strip()\n",
    "df['MemoryType1'] = df['MemoryType1'].str.strip()\n",
    "df[['MemorySize2', 'MemoryType2']] = df['Memory2'].str.extract(r'(^\\d+\\.?\\d*\\w{2})\\s?(.+)', expand=True)\n",
    "df['MemorySize2'] = df['MemorySize2'].str.strip()\n",
    "df['MemoryType2'] = df['MemoryType2'].str.strip()"
   ]
  },
  {
   "attachments": {},
   "cell_type": "markdown",
   "metadata": {},
   "source": [
    "### Test new way of engineering Memory feature"
   ]
  },
  {
   "cell_type": "code",
   "execution_count": 601,
   "metadata": {},
   "outputs": [],
   "source": [
    "# df.drop(columns=['MemoryType1', 'MemoryType2'], inplace=True)"
   ]
  },
  {
   "cell_type": "code",
   "execution_count": 602,
   "metadata": {},
   "outputs": [],
   "source": [
    "df['IsTB1'] = ~df['MemorySize1'].str.contains('TB')\n",
    "df.loc[df['IsTB1']==False, 'IsTB1'] = 1024\n",
    "df['IsTB2'] = ~df['MemorySize2'].str.contains('TB')\n",
    "df.loc[df['IsTB2']==False, 'IsTB2'] = 1024\n"
   ]
  },
  {
   "cell_type": "code",
   "execution_count": 603,
   "metadata": {},
   "outputs": [],
   "source": [
    "df['MemorySize1'] = df['MemorySize1'].str.extract(r'(\\d+)').astype(np.int32)\n",
    "df['MemorySize2'] = df['MemorySize2'].str.extract(r'(\\d+)').astype(np.int32)\n",
    "df['MemorySize1'] = df['MemorySize1'] * df['IsTB1']\n",
    "df['MemorySize2'] = df['MemorySize2'] * df['IsTB2']"
   ]
  },
  {
   "cell_type": "code",
   "execution_count": 604,
   "metadata": {},
   "outputs": [],
   "source": [
    "# df[(df['MemorySize1']>0) & (df['MemorySize2']>0)]\n",
    "df.drop(columns=['IsTB1', 'IsTB2', 'Memory1', 'Memory2'], inplace=True)"
   ]
  },
  {
   "cell_type": "code",
   "execution_count": 605,
   "metadata": {},
   "outputs": [],
   "source": [
    "memory1 = df[['MemorySize1', 'MemoryType1']]\n",
    "memory2 = df[['MemorySize2', 'MemoryType2']]\n",
    "\n",
    "pivoted_memory1 = memory1.pivot(columns='MemoryType1', values='MemorySize1')\n",
    "pivoted_memory1.fillna(0, inplace=True)\n",
    "\n",
    "pivoted_memory2 = memory2.pivot(columns='MemoryType2', values='MemorySize2')\n",
    "pivoted_memory2.drop(columns='NoType', inplace=True)\n",
    "pivoted_memory2.fillna(0, inplace=True)"
   ]
  },
  {
   "cell_type": "code",
   "execution_count": 606,
   "metadata": {},
   "outputs": [],
   "source": [
    "combined = pivoted_memory1[['HDD', 'Hybrid', 'SSD']] + pivoted_memory2\n",
    "combined['Flash Storage'] = pivoted_memory1['Flash Storage']"
   ]
  },
  {
   "cell_type": "code",
   "execution_count": 607,
   "metadata": {},
   "outputs": [],
   "source": [
    "new_df = df.merge(combined, left_index=True, right_index=True)\n"
   ]
  },
  {
   "cell_type": "code",
   "execution_count": 608,
   "metadata": {},
   "outputs": [],
   "source": [
    "new_df.drop(columns=['Memory', 'MemorySize1', 'MemorySize2', 'MemoryType1', 'MemoryType2'], inplace=True)"
   ]
  },
  {
   "cell_type": "code",
   "execution_count": 609,
   "metadata": {},
   "outputs": [],
   "source": [
    "# df['MemoryType'] = df['MemoryType1'].str.strip() + ', ' + df['MemoryType2'].str.strip()\n",
    "# df['MemoryType'] = df.apply(lambda x: x['MemoryType1'] if x['MemoryType1'] == x['MemoryType2']\\\n",
    "#                             else x['MemoryType1'] + ', ' + x['MemoryType2'], axis=1)\n",
    "# df['MemoryType'] = df['MemoryType'].str.replace(', NoType', '')"
   ]
  },
  {
   "cell_type": "code",
   "execution_count": 610,
   "metadata": {},
   "outputs": [],
   "source": [
    "# ordered = df['CombinedMemoryCapacity (GB)'].sort_values().unique()\n",
    "# sns.barplot(data=df, x='CombinedMemoryCapacity (GB)', y='Price_euros', estimator='median', order=ordered)\n",
    "# plt.show()"
   ]
  },
  {
   "attachments": {},
   "cell_type": "markdown",
   "metadata": {},
   "source": [
    "### GPU and OPSYS"
   ]
  },
  {
   "cell_type": "code",
   "execution_count": 611,
   "metadata": {},
   "outputs": [],
   "source": [
    "new_df['GpuProducer'] = new_df['Gpu'].str.extract(r'(^\\w+)')"
   ]
  },
  {
   "cell_type": "code",
   "execution_count": 612,
   "metadata": {},
   "outputs": [
    {
     "data": {
      "text/plain": [
       "Intel     722\n",
       "Nvidia    400\n",
       "AMD       180\n",
       "ARM         1\n",
       "Name: GpuProducer, dtype: int64"
      ]
     },
     "execution_count": 612,
     "metadata": {},
     "output_type": "execute_result"
    }
   ],
   "source": [
    "new_df['GpuProducer'].value_counts()"
   ]
  },
  {
   "cell_type": "code",
   "execution_count": 613,
   "metadata": {},
   "outputs": [],
   "source": [
    "# Because there is only 1 ARm and this could affect the model so will be removed\n",
    "new_df = new_df[new_df['GpuProducer']!='ARM']"
   ]
  },
  {
   "cell_type": "code",
   "execution_count": 614,
   "metadata": {},
   "outputs": [
    {
     "data": {
      "text/plain": [
       "Windows 10      1072\n",
       "No OS             66\n",
       "Linux             62\n",
       "Windows 7         45\n",
       "Chrome OS         26\n",
       "macOS             13\n",
       "Mac OS X           8\n",
       "Windows 10 S       8\n",
       "Android            2\n",
       "Name: OpSys, dtype: int64"
      ]
     },
     "execution_count": 614,
     "metadata": {},
     "output_type": "execute_result"
    }
   ],
   "source": [
    "new_df['OpSys'].value_counts()"
   ]
  },
  {
   "cell_type": "code",
   "execution_count": 615,
   "metadata": {},
   "outputs": [],
   "source": [
    "# group Windows 10 S and Android into Other category while Mac 0S X to macOS\n",
    "otherOpSys = ['Windows 10 S', 'Android']\n",
    "new_df.loc[new_df['OpSys'].isin(otherOpSys), 'OpSys'] = 'Other'\n",
    "new_df.loc[new_df['OpSys'] == 'Mac OS X', 'OpSys'] = 'macOS'\n"
   ]
  },
  {
   "cell_type": "code",
   "execution_count": 616,
   "metadata": {},
   "outputs": [],
   "source": [
    "new_df.drop(columns='Gpu', inplace=True)"
   ]
  },
  {
   "attachments": {},
   "cell_type": "markdown",
   "metadata": {},
   "source": [
    "### Preparing Ram and Weight features"
   ]
  },
  {
   "cell_type": "code",
   "execution_count": 617,
   "metadata": {},
   "outputs": [],
   "source": [
    "new_df['Ram (GB)'] = new_df['Ram'].str.replace('GB', '')\n",
    "new_df['Weight (kg)'] = new_df['Weight'].str.replace('kg', '')"
   ]
  },
  {
   "cell_type": "code",
   "execution_count": 618,
   "metadata": {},
   "outputs": [],
   "source": [
    "new_df.drop(columns=['Ram', 'Weight'], inplace=True)"
   ]
  },
  {
   "cell_type": "code",
   "execution_count": 619,
   "metadata": {},
   "outputs": [
    {
     "data": {
      "text/html": [
       "<div>\n",
       "<style scoped>\n",
       "    .dataframe tbody tr th:only-of-type {\n",
       "        vertical-align: middle;\n",
       "    }\n",
       "\n",
       "    .dataframe tbody tr th {\n",
       "        vertical-align: top;\n",
       "    }\n",
       "\n",
       "    .dataframe thead th {\n",
       "        text-align: right;\n",
       "    }\n",
       "</style>\n",
       "<table border=\"1\" class=\"dataframe\">\n",
       "  <thead>\n",
       "    <tr style=\"text-align: right;\">\n",
       "      <th></th>\n",
       "      <th>Company</th>\n",
       "      <th>TypeName</th>\n",
       "      <th>OpSys</th>\n",
       "      <th>Price_euros</th>\n",
       "      <th>Width</th>\n",
       "      <th>Heigth</th>\n",
       "      <th>IsTouchscreen</th>\n",
       "      <th>CpuProducer</th>\n",
       "      <th>CpuSpeed (GHz)</th>\n",
       "      <th>HDD</th>\n",
       "      <th>Hybrid</th>\n",
       "      <th>SSD</th>\n",
       "      <th>Flash Storage</th>\n",
       "      <th>GpuProducer</th>\n",
       "      <th>Ram (GB)</th>\n",
       "      <th>Weight (kg)</th>\n",
       "    </tr>\n",
       "  </thead>\n",
       "  <tbody>\n",
       "    <tr>\n",
       "      <th>0</th>\n",
       "      <td>Apple</td>\n",
       "      <td>Ultrabook</td>\n",
       "      <td>macOS</td>\n",
       "      <td>1339.69</td>\n",
       "      <td>2560</td>\n",
       "      <td>1600</td>\n",
       "      <td>No</td>\n",
       "      <td>Intel</td>\n",
       "      <td>2.3</td>\n",
       "      <td>0</td>\n",
       "      <td>0</td>\n",
       "      <td>128</td>\n",
       "      <td>0</td>\n",
       "      <td>Intel</td>\n",
       "      <td>8</td>\n",
       "      <td>1.37</td>\n",
       "    </tr>\n",
       "    <tr>\n",
       "      <th>1</th>\n",
       "      <td>Apple</td>\n",
       "      <td>Ultrabook</td>\n",
       "      <td>macOS</td>\n",
       "      <td>898.94</td>\n",
       "      <td>1440</td>\n",
       "      <td>900</td>\n",
       "      <td>No</td>\n",
       "      <td>Intel</td>\n",
       "      <td>1.8</td>\n",
       "      <td>0</td>\n",
       "      <td>0</td>\n",
       "      <td>0</td>\n",
       "      <td>128</td>\n",
       "      <td>Intel</td>\n",
       "      <td>8</td>\n",
       "      <td>1.34</td>\n",
       "    </tr>\n",
       "    <tr>\n",
       "      <th>2</th>\n",
       "      <td>HP</td>\n",
       "      <td>Notebook</td>\n",
       "      <td>No OS</td>\n",
       "      <td>575.00</td>\n",
       "      <td>1920</td>\n",
       "      <td>1080</td>\n",
       "      <td>No</td>\n",
       "      <td>Intel</td>\n",
       "      <td>2.5</td>\n",
       "      <td>0</td>\n",
       "      <td>0</td>\n",
       "      <td>256</td>\n",
       "      <td>0</td>\n",
       "      <td>Intel</td>\n",
       "      <td>8</td>\n",
       "      <td>1.86</td>\n",
       "    </tr>\n",
       "    <tr>\n",
       "      <th>3</th>\n",
       "      <td>Apple</td>\n",
       "      <td>Ultrabook</td>\n",
       "      <td>macOS</td>\n",
       "      <td>2537.45</td>\n",
       "      <td>2880</td>\n",
       "      <td>1800</td>\n",
       "      <td>No</td>\n",
       "      <td>Intel</td>\n",
       "      <td>2.7</td>\n",
       "      <td>0</td>\n",
       "      <td>0</td>\n",
       "      <td>512</td>\n",
       "      <td>0</td>\n",
       "      <td>AMD</td>\n",
       "      <td>16</td>\n",
       "      <td>1.83</td>\n",
       "    </tr>\n",
       "    <tr>\n",
       "      <th>4</th>\n",
       "      <td>Apple</td>\n",
       "      <td>Ultrabook</td>\n",
       "      <td>macOS</td>\n",
       "      <td>1803.60</td>\n",
       "      <td>2560</td>\n",
       "      <td>1600</td>\n",
       "      <td>No</td>\n",
       "      <td>Intel</td>\n",
       "      <td>3.1</td>\n",
       "      <td>0</td>\n",
       "      <td>0</td>\n",
       "      <td>256</td>\n",
       "      <td>0</td>\n",
       "      <td>Intel</td>\n",
       "      <td>8</td>\n",
       "      <td>1.37</td>\n",
       "    </tr>\n",
       "    <tr>\n",
       "      <th>...</th>\n",
       "      <td>...</td>\n",
       "      <td>...</td>\n",
       "      <td>...</td>\n",
       "      <td>...</td>\n",
       "      <td>...</td>\n",
       "      <td>...</td>\n",
       "      <td>...</td>\n",
       "      <td>...</td>\n",
       "      <td>...</td>\n",
       "      <td>...</td>\n",
       "      <td>...</td>\n",
       "      <td>...</td>\n",
       "      <td>...</td>\n",
       "      <td>...</td>\n",
       "      <td>...</td>\n",
       "      <td>...</td>\n",
       "    </tr>\n",
       "    <tr>\n",
       "      <th>1298</th>\n",
       "      <td>Lenovo</td>\n",
       "      <td>2 in 1 Convertible</td>\n",
       "      <td>Windows 10</td>\n",
       "      <td>638.00</td>\n",
       "      <td>1920</td>\n",
       "      <td>1080</td>\n",
       "      <td>Yes</td>\n",
       "      <td>Intel</td>\n",
       "      <td>2.5</td>\n",
       "      <td>0</td>\n",
       "      <td>0</td>\n",
       "      <td>128</td>\n",
       "      <td>0</td>\n",
       "      <td>Intel</td>\n",
       "      <td>4</td>\n",
       "      <td>1.8</td>\n",
       "    </tr>\n",
       "    <tr>\n",
       "      <th>1299</th>\n",
       "      <td>Lenovo</td>\n",
       "      <td>2 in 1 Convertible</td>\n",
       "      <td>Windows 10</td>\n",
       "      <td>1499.00</td>\n",
       "      <td>3200</td>\n",
       "      <td>1800</td>\n",
       "      <td>Yes</td>\n",
       "      <td>Intel</td>\n",
       "      <td>2.5</td>\n",
       "      <td>0</td>\n",
       "      <td>0</td>\n",
       "      <td>512</td>\n",
       "      <td>0</td>\n",
       "      <td>Intel</td>\n",
       "      <td>16</td>\n",
       "      <td>1.3</td>\n",
       "    </tr>\n",
       "    <tr>\n",
       "      <th>1300</th>\n",
       "      <td>Lenovo</td>\n",
       "      <td>Notebook</td>\n",
       "      <td>Windows 10</td>\n",
       "      <td>229.00</td>\n",
       "      <td>1366</td>\n",
       "      <td>768</td>\n",
       "      <td>No</td>\n",
       "      <td>Intel</td>\n",
       "      <td>1.6</td>\n",
       "      <td>0</td>\n",
       "      <td>0</td>\n",
       "      <td>0</td>\n",
       "      <td>64</td>\n",
       "      <td>Intel</td>\n",
       "      <td>2</td>\n",
       "      <td>1.5</td>\n",
       "    </tr>\n",
       "    <tr>\n",
       "      <th>1301</th>\n",
       "      <td>HP</td>\n",
       "      <td>Notebook</td>\n",
       "      <td>Windows 10</td>\n",
       "      <td>764.00</td>\n",
       "      <td>1366</td>\n",
       "      <td>768</td>\n",
       "      <td>No</td>\n",
       "      <td>Intel</td>\n",
       "      <td>2.5</td>\n",
       "      <td>1024</td>\n",
       "      <td>0</td>\n",
       "      <td>0</td>\n",
       "      <td>0</td>\n",
       "      <td>AMD</td>\n",
       "      <td>6</td>\n",
       "      <td>2.19</td>\n",
       "    </tr>\n",
       "    <tr>\n",
       "      <th>1302</th>\n",
       "      <td>Asus</td>\n",
       "      <td>Notebook</td>\n",
       "      <td>Windows 10</td>\n",
       "      <td>369.00</td>\n",
       "      <td>1366</td>\n",
       "      <td>768</td>\n",
       "      <td>No</td>\n",
       "      <td>Intel</td>\n",
       "      <td>1.6</td>\n",
       "      <td>500</td>\n",
       "      <td>0</td>\n",
       "      <td>0</td>\n",
       "      <td>0</td>\n",
       "      <td>Intel</td>\n",
       "      <td>4</td>\n",
       "      <td>2.2</td>\n",
       "    </tr>\n",
       "  </tbody>\n",
       "</table>\n",
       "<p>1302 rows × 16 columns</p>\n",
       "</div>"
      ],
      "text/plain": [
       "     Company            TypeName       OpSys  Price_euros  Width  Heigth  \\\n",
       "0      Apple           Ultrabook       macOS      1339.69   2560    1600   \n",
       "1      Apple           Ultrabook       macOS       898.94   1440     900   \n",
       "2         HP            Notebook       No OS       575.00   1920    1080   \n",
       "3      Apple           Ultrabook       macOS      2537.45   2880    1800   \n",
       "4      Apple           Ultrabook       macOS      1803.60   2560    1600   \n",
       "...      ...                 ...         ...          ...    ...     ...   \n",
       "1298  Lenovo  2 in 1 Convertible  Windows 10       638.00   1920    1080   \n",
       "1299  Lenovo  2 in 1 Convertible  Windows 10      1499.00   3200    1800   \n",
       "1300  Lenovo            Notebook  Windows 10       229.00   1366     768   \n",
       "1301      HP            Notebook  Windows 10       764.00   1366     768   \n",
       "1302    Asus            Notebook  Windows 10       369.00   1366     768   \n",
       "\n",
       "     IsTouchscreen CpuProducer CpuSpeed (GHz)   HDD  Hybrid  SSD  \\\n",
       "0               No       Intel            2.3     0       0  128   \n",
       "1               No       Intel            1.8     0       0    0   \n",
       "2               No       Intel            2.5     0       0  256   \n",
       "3               No       Intel            2.7     0       0  512   \n",
       "4               No       Intel            3.1     0       0  256   \n",
       "...            ...         ...            ...   ...     ...  ...   \n",
       "1298           Yes       Intel            2.5     0       0  128   \n",
       "1299           Yes       Intel            2.5     0       0  512   \n",
       "1300            No       Intel            1.6     0       0    0   \n",
       "1301            No       Intel            2.5  1024       0    0   \n",
       "1302            No       Intel            1.6   500       0    0   \n",
       "\n",
       "      Flash Storage GpuProducer Ram (GB) Weight (kg)  \n",
       "0                 0       Intel        8        1.37  \n",
       "1               128       Intel        8        1.34  \n",
       "2                 0       Intel        8        1.86  \n",
       "3                 0         AMD       16        1.83  \n",
       "4                 0       Intel        8        1.37  \n",
       "...             ...         ...      ...         ...  \n",
       "1298              0       Intel        4         1.8  \n",
       "1299              0       Intel       16         1.3  \n",
       "1300             64       Intel        2         1.5  \n",
       "1301              0         AMD        6        2.19  \n",
       "1302              0       Intel        4         2.2  \n",
       "\n",
       "[1302 rows x 16 columns]"
      ]
     },
     "execution_count": 619,
     "metadata": {},
     "output_type": "execute_result"
    }
   ],
   "source": [
    "new_df"
   ]
  },
  {
   "cell_type": "code",
   "execution_count": 620,
   "metadata": {},
   "outputs": [],
   "source": [
    "# Define the new column order\n",
    "new_order = [*new_df.columns[:3], *new_df.columns[4:], new_df.columns[3]]\n",
    "\n",
    "# Use the reindex method to create a new DataFrame with the columns in the new order\n",
    "cleaned_df = new_df.reindex(columns=new_order)"
   ]
  },
  {
   "attachments": {},
   "cell_type": "markdown",
   "metadata": {},
   "source": [
    "### Convert variables into their correct type "
   ]
  },
  {
   "cell_type": "code",
   "execution_count": 621,
   "metadata": {},
   "outputs": [
    {
     "name": "stdout",
     "output_type": "stream",
     "text": [
      "<class 'pandas.core.frame.DataFrame'>\n",
      "Int64Index: 1302 entries, 0 to 1302\n",
      "Data columns (total 16 columns):\n",
      " #   Column          Non-Null Count  Dtype  \n",
      "---  ------          --------------  -----  \n",
      " 0   Company         1302 non-null   object \n",
      " 1   TypeName        1302 non-null   object \n",
      " 2   OpSys           1302 non-null   object \n",
      " 3   Price_euros     1302 non-null   float64\n",
      " 4   Width           1302 non-null   int32  \n",
      " 5   Heigth          1302 non-null   int32  \n",
      " 6   IsTouchscreen   1302 non-null   object \n",
      " 7   CpuProducer     1302 non-null   object \n",
      " 8   CpuSpeed (GHz)  1302 non-null   object \n",
      " 9   HDD             1302 non-null   int64  \n",
      " 10  Hybrid          1302 non-null   int64  \n",
      " 11  SSD             1302 non-null   int64  \n",
      " 12  Flash Storage   1302 non-null   int64  \n",
      " 13  GpuProducer     1302 non-null   object \n",
      " 14  Ram (GB)        1302 non-null   object \n",
      " 15  Weight (kg)     1302 non-null   object \n",
      "dtypes: float64(1), int32(2), int64(4), object(9)\n",
      "memory usage: 162.8+ KB\n"
     ]
    }
   ],
   "source": [
    "new_df.info()"
   ]
  },
  {
   "cell_type": "code",
   "execution_count": 622,
   "metadata": {},
   "outputs": [],
   "source": [
    "cleaned_df['Ram (GB)'] = cleaned_df['Ram (GB)'].astype(np.int16)\n",
    "cleaned_df['Weight (kg)'] = cleaned_df['Weight (kg)'].astype(np.float16)\n",
    "cleaned_df['CpuSpeed (GHz)'] = cleaned_df['CpuSpeed (GHz)'].astype(np.float16)\n",
    "# new_df['CombinedMemoryCapacity (GB)'] = new_df['CombinedMemoryCapacity (GB)'].astype(np.int32)"
   ]
  },
  {
   "cell_type": "code",
   "execution_count": 623,
   "metadata": {},
   "outputs": [],
   "source": [
    "cleaned_df.to_csv('data/cleaned_data.csv', index=False)"
   ]
  }
 ],
 "metadata": {
  "kernelspec": {
   "display_name": "venv",
   "language": "python",
   "name": "python3"
  },
  "language_info": {
   "codemirror_mode": {
    "name": "ipython",
    "version": 3
   },
   "file_extension": ".py",
   "mimetype": "text/x-python",
   "name": "python",
   "nbconvert_exporter": "python",
   "pygments_lexer": "ipython3",
   "version": "3.9.0"
  },
  "orig_nbformat": 4
 },
 "nbformat": 4,
 "nbformat_minor": 2
}
